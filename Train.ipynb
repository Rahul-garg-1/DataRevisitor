{
  "nbformat": 4,
  "nbformat_minor": 0,
  "metadata": {
    "colab": {
      "name": "Train.ipynb",
      "provenance": [],
      "collapsed_sections": []
    },
    "kernelspec": {
      "name": "python3",
      "display_name": "Python 3"
    }
  },
  "cells": [
    {
      "cell_type": "code",
      "metadata": {
        "id": "2BePAjkGaNhQ"
      },
      "source": [
        "import spacy\n",
        "import random\n",
        "import pandas as pd\n",
        "import json"
      ],
      "execution_count": null,
      "outputs": []
    },
    {
      "cell_type": "code",
      "metadata": {
        "id": "MlC0Etyj1a6a",
        "outputId": "4dd691cf-d50c-4a47-f27b-1617713e44bd",
        "colab": {
          "base_uri": "https://localhost:8080/"
        }
      },
      "source": [
        "from google.colab import drive\n",
        "drive.mount(\"my-drive\")"
      ],
      "execution_count": null,
      "outputs": [
        {
          "output_type": "stream",
          "text": [
            "Mounted at my-drive\n"
          ],
          "name": "stdout"
        }
      ]
    },
    {
      "cell_type": "code",
      "metadata": {
        "id": "YkCOSoX01fXy"
      },
      "source": [
        "df=pd.read_excel(\"my-drive/My Drive/annotations1.xlsx\")\n",
        "df1=pd.read_excel(\"my-drive/My Drive/facultyinfo1.xlsx\")"
      ],
      "execution_count": null,
      "outputs": []
    },
    {
      "cell_type": "code",
      "metadata": {
        "id": "8WvL1Mwq39fG"
      },
      "source": [
        "ids={\"e_2\":\"Name\",\"e_3\":\"Specialization\",\"e_4\":\"Address\",\"e_5\":\"Department\",\"e_6\":\"Designation\",\"e_7\":\"Degree\",\"e_8\":\"Email\",\"e_9\":\"Experience\",\"e_10\":\"MobileNumber\",\"e_13\":\"PersonalWebsite\",\"e_14\":\"Qualification\"}\n",
        "\n",
        "training_data=[]"
      ],
      "execution_count": null,
      "outputs": []
    },
    {
      "cell_type": "code",
      "metadata": {
        "id": "6ew5EcfT4ZPp"
      },
      "source": [
        "def prepareTrainingData(df,df1,ids,training_data):\n",
        "  for i in range(len(df1.index)):\n",
        "    temp_dict={}\n",
        "    temp_dict[\"entities\"]=[]\n",
        "    temp_list=[]\n",
        "    temp_list.append(df1.iloc[i,0])\n",
        "    data=json.loads(df.iloc[i,0])\n",
        "    list1=data[\"entities\"]\n",
        "    \n",
        "    for element in list1:\n",
        "        ann_text=ids.get(element['classId'])\n",
        "        if(ann_text==None):\n",
        "            continue\n",
        "        start=element['offsets'][0]['start']\n",
        "        end=element['offsets'][0]['start']+len(element['offsets'][0]['text'])\n",
        "        l1=[]\n",
        "        l1.append(start)\n",
        "        l1.append(end)\n",
        "        l1.append(ann_text)\n",
        "        l1=tuple(l1)\n",
        "        temp_dict[\"entities\"].append(l1)\n",
        "    \n",
        "    temp_list.append(temp_dict)\n",
        "    training_data.append(tuple(temp_list))\n",
        "  return training_data\n",
        "# prepareTrainingData(df,df1,ids,training_data)"
      ],
      "execution_count": null,
      "outputs": []
    },
    {
      "cell_type": "code",
      "metadata": {
        "id": "eCFUDnjE6SXv"
      },
      "source": [
        "training_data=prepareTrainingData(df,df1,ids,training_data)"
      ],
      "execution_count": null,
      "outputs": []
    },
    {
      "cell_type": "code",
      "metadata": {
        "id": "a--HwHYA6QD0"
      },
      "source": [
        "stdf=pd.read_excel('my-drive/My Drive/stanford annotation.xlsx')\n",
        "stdf1=pd.read_excel('my-drive/My Drive/stanfordfacultyinfo.xlsx')"
      ],
      "execution_count": null,
      "outputs": []
    },
    {
      "cell_type": "code",
      "metadata": {
        "id": "4iFRiuucxHvv"
      },
      "source": [
        "ids1={\"e_8\":\"Experience\",\"e_3\":\"Address\",\"e_2\":\"Specialization\",\"e_7\":\"Email\",\"e_5\":\"Designation\",\"e_11\":\"Qualification\",\"e_6\":\"Degree\",\"e_9\":\"MobileNumber\",\"e_10\":\"PersonalWebsite\",\"e_4\":\"Department\",\"e_1\":\"Name\"}"
      ],
      "execution_count": null,
      "outputs": []
    },
    {
      "cell_type": "code",
      "metadata": {
        "id": "5r2BeldH8XMo"
      },
      "source": [
        "training_data1=[]\n",
        "training_data1=prepareTrainingData(stdf,stdf1,ids1,training_data1)"
      ],
      "execution_count": null,
      "outputs": []
    },
    {
      "cell_type": "code",
      "metadata": {
        "id": "l5Ee9VdQ4fG_"
      },
      "source": [
        "training_data.extend(training_data1)"
      ],
      "execution_count": null,
      "outputs": []
    },
    {
      "cell_type": "code",
      "metadata": {
        "id": "zg8K0YbuD2CC"
      },
      "source": [
        "mitdf=pd.read_excel('my-drive/My Drive/mit annotation.xlsx')\n",
        "mitdf1=pd.read_csv('my-drive/My Drive/mitfacultyinfo.csv')"
      ],
      "execution_count": null,
      "outputs": []
    },
    {
      "cell_type": "code",
      "metadata": {
        "id": "gh0wbFyDEYda"
      },
      "source": [
        "training_data2=[]\n",
        "trainig_data2=prepareTrainingData(mitdf,mitdf1[:19],ids1,training_data2)"
      ],
      "execution_count": null,
      "outputs": []
    },
    {
      "cell_type": "code",
      "metadata": {
        "id": "e6siN8YeJzxG",
        "outputId": "b326a5e6-37c3-4872-c33c-3f60864f105e",
        "colab": {
          "base_uri": "https://localhost:8080/"
        }
      },
      "source": [
        "training_data2"
      ],
      "execution_count": null,
      "outputs": [
        {
          "output_type": "execute_result",
          "data": {
            "text/plain": [
              "[('Polina  Anikeeva,Associate Professor in Materials Science and Engineering,Associate Professor in Brain and Cognitive Sciences,McGovern Institute for Brain Research,Associate Director, Research Laboratory of Electronics,B.S. in Biophysics, St. Petersburg State Polytechnic University, 2003,Ph.D. in Materials Science and Engineering, MIT, 2009,Room 36-849,anikeeva@mit.edu,Bioelectronics Group,CV,Bio; Biomaterials; Biophysics; Biotechnology; Electronic Materials; Magnetic Materials; Materials Chemistry; Implants; Nanotechnology; Photonic Materials,Research,Prof. Polina Anikeeva joined DMSE in 2011. Dr. Anikeeva\\'s Ph.D. thesis focussed on physical properties and design of light emitting devices based on organic materials and nanoparticles, working under the supervision of Prof. Vladimir Bulovic in EECS. She previously held the Dean\\'s Postdoctoral Fellowship, School of Medicine, Stanford and was in the group of Prof. Karl Deisseroth in the Department of Bioengineering. Her current research is focused on development of optoelectronic and magnetic materials and devices for recording and modulating activity of neurons in the brain, spinal cord, and peripheral organs.,When asked to describe her research interests, Dr. Anikeeva writes, \"My research interests lie within the field of,Bioelectronics,, and specifically the development of materials and devices that enable recording and manipulation of signaling processes within the nervous system. Our ability to understand the dynamics of neural circuits and develop treatments for neurological (Parkinson’s, paraplegia) and psychiatric (depression) conditions is currently handicapped by the technology available for interacting with the electrical, chemical, and mechanical signaling modalities used by neurons. Today, neural probes remain limited in both function and longevity as they fail to communicate with the neural tissue across its signaling palette for extended periods of time. ....By combining physical modeling, materials synthesis and device fabrication with understanding of electrophysiological and anatomical structure of neural circuits, my group aspires to create enabling tools for systems neuroscience as well as advance the development of future neuroprosthetics.\" She is enthusiastic about pursuing her research interests at MIT, where collaborations between colleagues, departments, and schools create innovations almost daily.,She explains that, \"While research is a very significant part, of my life, I cannot possibly imagine a fulfilling career without teaching. My goal, as a teacher, is to infect the students with my curiosity for materials science and to inspire them to become future academic and industry leaders in the field.\" Every Spring she teaches core undergraduate course 3.024 \"Electronic, Optical, and Magnetic Properties of Materials\" that takes students on a math-packed journey throught the structure-property relations governing optoelectronics and magnetism. In the Fall she teaches an advanced design course 3.156/3.46 \"Photonic Materials and Devices\" that allows students to engineer realistic photonic devices such as lasers, solar cells, and optical fibers.',\n",
              "  {'entities': [(0, 16, 'Name'),\n",
              "    (17, 36, 'Designation'),\n",
              "    (40, 73, 'Department'),\n",
              "    (74, 93, 'Designation'),\n",
              "    (219, 288, 'Qualification'),\n",
              "    (298, 331, 'Department'),\n",
              "    (343, 354, 'Address'),\n",
              "    (355, 371, 'Email'),\n",
              "    (372, 386, 'Specialization'),\n",
              "    (642, 808, 'Specialization'),\n",
              "    (1013, 1175, 'Specialization'),\n",
              "    (1292, 1306, 'Specialization'),\n",
              "    (1330, 1454, 'Specialization')]}),\n",
              " ('Antoine  Allanore,Associate Professor of Metallurgy,Chemical engineer diploma, Ecole Nationale Supérieure des Industries Chimiques, Nancy, France, 2004,M. Sc., Institut National Polytechnique de Lorraine, Nancy, France, 2004,Ph.D., Institut National Polytechnique de Lorraine, Nancy, France, 2007,13-5066,allanore@mit.edu,Allanore Group Website,Metals and Minerals for the Environment,Alternative Fertilizers to Feed the World,CV,Electrochemistry; Corrosion and Environmental Effects; Manufacturing; Materials Processing; Materials Chemistry; Metallurgy; Thermodynamics,Research,Existing extraction and manufacturing processes have been developed at a time of limited awareness of resources scarcity and environmental impact.\\xa0 These two issues are encapsulated nowadays in the term,sustainability,, which encompasses a cost metric.\\xa0 Unfortunately, most of the easy problems affecting the production as well as environmental costs of minerals or metals extraction, and their large scale transformations have been solved. As of today, it is therefore of critical importance to develop innovative approaches to cope with both increasing materials needs and earth intrinsic limitations.,Prof. Allanore’s research applies to the development of,sustainable materials extraction and manufacturing process.,His predilection processing methods rely on, but are not limited to, using electricity as a mean to provide energetically efficient processes. Each research project combines theoretical approach (e.g., how does the flow of current can affect the performance of an electrolytic process) and phenomenological approach (e.g. what are the actual lab performance of the foreseen electrolytic process).,For mining,, one approach consists in developing processing methods that provide maximum use of the elements composing the ore while minimize water usage, chemicals consumption and the amount of residue. In the field of,metal extraction,, the research focuses on developing innovative processes with higher productivity and metal quality, while targeting minimization of energy consumption and waste generation. On the,manufacturing,front, the current research aims at providing manufacturing methods that reduces the number of unit-operations, ultimately increasing the productivity and limiting the scrap-rate of manufacture-intensive business.',\n",
              "  {'entities': [(0, 17, 'Name'),\n",
              "    (18, 51, 'Designation'),\n",
              "    (226, 276, 'Qualification'),\n",
              "    (285, 305, 'Address'),\n",
              "    (306, 322, 'Email'),\n",
              "    (1229, 1302, 'Specialization')]}),\n",
              " (\"Geoffrey S.D. Beach,Professor of Materials Science and Engineering,Co-director, Materials Research Laboratory (MRL)  at MIT,BS Physics, California Institute of Technology, 1997,PhD Physics, University of California, San Diego, 2003,Room 13-2042,gbeach@mit.edu,Personal Website,Ceramics; Condensed Matter Physics; Electrochemistry; Electronic Materials; Magnetic Materials; Nanotechnology; Surfaces, Interfaces, and Thin Films; Transport Phenomena,Research,Professor Geoffrey Beach worked in UCSD's Center for Magnetic Recording Research to develop novel magnetic thin-film nanocomposites for ultrafast data storage applications. He later went on to the University of Texas at Austin as a Postdoctoral Fellow in the Department of Physics and the Texas Materials Institute where he made important discoveries in magnetization dynamics and spin-transfer torque in nanoscale magnetic structures. His current research interests focus on spin dynamics and “spin-electronics” in nanoscale magnetic materials and devices. Developing ways to store information more densely and to access it more quickly requires understanding the magnetization configurations in nanoscale structures and how they evolve in time. His work aims in part to understand and control spin excitations in magnetic materials whose dimensions approach fundamental magnetic length scales. One of the most exciting prospects in magnetism today is the possibility of electrical control of the magnetic state of a device, taking advantage of the coupling between spin and charge in a conducting ferromagnetic material. A major thrust of his research aims to harness the spin of the electron in magnetic materials to realize new approaches to spin-based storage and computation. Studying these processes requires the development of advanced instrumentation capable of probing magnetization dynamics at the shortest timescales and the smallest length scales. His group will work to develop new optical and electrical approaches to push the detection limits in order to enable development of new materials and structures to meet the information storage and processing demands of the future.\",\n",
              "  {'entities': [(0, 19, 'Name'),\n",
              "    (20, 66, 'Designation'),\n",
              "    (67, 115, 'Designation'),\n",
              "    (124, 176, 'Qualification'),\n",
              "    (177, 231, 'Qualification'),\n",
              "    (232, 244, 'Address'),\n",
              "    (245, 259, 'Email'),\n",
              "    (932, 1016, 'Specialization'),\n",
              "    (1255, 1354, 'Specialization')]}),\n",
              " (\"Alfredo  Alexander-Katz,Associate Professor of Materials Science and Engineering,B.S. Physics, UNAM (Mexico), 1998,Ph.D. Physics, University of California at Santa Barbara, 2004,NE46-605,aalexand@mit.edu,The Alexander-Katz Research Group,Bio; Biophysics; Computational Materials Science; Condensed Matter Physics; Nanotechnology; Polymers; Self Assembly,Research,Prof. Alfredo Alexander-Katz' doctoral work focused on understanding the self-assembly of copolymers using novel field-theoretical methods. As an NSF International Postdoctoral Fellow, he moved to Munich to study the dynamics of driven polymers. His work in Munich led to an important discovery that unraveled the mystery behind the process of blood clotting at high shear rates and opened new routes for the development of novel shear responsive materials. He later moved to the Ecole Superieure de Physique et Chimie Industrielle (Paris, France) as a CNRS postdoctoral researcher to study charged polymer solutions and their self-assembly with direct applications to fuel cells. His current interests lie in the realm of self-assembly and dynamics of biological soft-materials using a combination of analytical theory and simulations. His group is particularly focused in designing novel polymer-like drug delivery carriers and understanding their response to chemical and physical stimuli. This work aims to enable a new generation of drug-delivery vectors that could target different areas of the body in a very specific manner, and to provide a much deeper understanding of the processes of adhesion and targeting in flow. Other topics that he is currently pursuing is understanding the supramolecular self-assembly of chlorophyls in the antennas of Photosynthetic Bacteria which are the most efficient light harvesting organisms on Earth, as well as studying the dynamics of driven soft systems in general. The research in Prof. Alexander-Katz's group is highly interdisciplinary, and lies at the interface of materials, biology, physics, chemistry and medicine.\",\n",
              "  {'entities': [(0, 15, 'Name'),\n",
              "    (22, 31, 'Designation'),\n",
              "    (35, 68, 'Department'),\n",
              "    (69, 112, 'Qualification'),\n",
              "    (113, 156, 'Qualification'),\n",
              "    (157, 201, 'Qualification'),\n",
              "    (202, 212, 'Address'),\n",
              "    (213, 228, 'Email'),\n",
              "    (327, 336, 'Designation'),\n",
              "    (337, 352, 'Name'),\n",
              "    (589, 924, 'Specialization'),\n",
              "    (933, 942, 'Designation'),\n",
              "    (976, 1085, 'Specialization'),\n",
              "    (1168, 1177, 'Designation')]}),\n",
              " (\"W. Craig Carter,POSCO Professor of Materials Science and Engineering,BS University of California, Berkeley, 1983,MS University of California, Berkeley, 1987,PhD University of California, Berkeley, 1989,Room 8-425,ccarter@mit.edu,The Carter Group,Ask an Engineer,Computational Materials Science; Energy; Energy Storage,Research,Professor W. Craig Carter came to MIT with a research focus in the application of theoretical and computational materials science to microstructural evolution and the relations between material properties and microstructure. He places particular emphasis on the physical analysis of complex processes when possible and the development of numerical algorithms and codes when microstructural simulation is required, and in recent years he has brought his interests and skills to the science of battery materials and the electro-chemo-mechanics of phase transitions and fracture of battery electrodes. He and Professor Yet-Ming Chiang have developed a flow battery that utilizes co-suspensions of solid state electrode and electronically conductive particulates. They co-founded a company, 24M, to produce grid scale energy storage soluntions.,Professor Carter is recognized as one of DMSE's most innovative instructors. He is a MacVicar Fellow and has received the MIT School of Engineering Bose Teaching Award. His use of Mathematica in the classroom was honored with a Wolfram Innovator Award.,With Prof. Neri Oxman of the MIT Media Lab, he has collaborated on several,projects,that incorporate aspects of materials science, natural design, and mythology. Their work has been shown in exhibitions and added to the permanent collections of \\xa0the MoMA, the Smithsonian, and the Pompidou Center.\",\n",
              "  {'entities': [(0, 15, 'Name'),\n",
              "    (30, 54, 'Designation'),\n",
              "    (55, 69, 'Designation'),\n",
              "    (198, 254, 'Qualification'),\n",
              "    (255, 323, 'Qualification'),\n",
              "    (324, 336, 'Address'),\n",
              "    (337, 351, 'Email'),\n",
              "    (629, 777, 'Specialization'),\n",
              "    (810, 1111, 'Specialization'),\n",
              "    (1205, 1287, 'Specialization')]}),\n",
              " (\"Michael J. Cima,David H. Koch Professor of Engineering,Associate Dean of Innovation for the School of Engineering,Co-Director of the MIT Innovation Initiative,Faculty Director, Lemelson-MIT Program,BS Chemistry, University of California at Berkeley, 1982,PhD Chemical Engineering, University of California at Berkeley, 1986,Room 76-653G,mjcima@mit.edu,Cima Lab,Ceramics; Cancer; Implants; Nanotechnology,Research,Prof. Cima is author or co-author of over two hundred peer-reviewed scientific publications and forty-five patents, and is a recognized expert in the field of materials processing. Prof. Cima is actively involved in materials and engineered systems aimed at improving human health such as treatments for cancer, metabolic diseases, trauma, and urological disorders. Prof. Cima's research includes advanced forming technologies for complex macro and micro devices, such as colloid science, MEMS and other micro components for medical devices that are used for drug delivery and diagnostics, as well as high-throughput development methods for formulations of materials and pharmaceutical formulations. He is a coinventor of MIT's three-dimensional printing process. His research has led to the development of chemically derived epitaxial oxide films for HTSC coated conductors. He and collaborators are developing implantable MEMS devices for unprecedented control in the delivery of pharmaceuticals and implantable diagnostic systems.\",\n",
              "  {'entities': [(0, 16, 'Name'),\n",
              "    (17, 34, 'Designation'),\n",
              "    (70, 103, 'Department'),\n",
              "    (139, 151, 'Address'),\n",
              "    (152, 166, 'MobileNumber'),\n",
              "    (167, 182, 'Email'),\n",
              "    (336, 427, 'Specialization'),\n",
              "    (452, 753, 'Specialization')]}),\n",
              " (\"Yet-Ming  Chiang,Kyocera Professor,National Academy of Engineering,SB Materials Science and Engineering, MIT, 1980,ScD Ceramics, MIT, 1985,Room 13-4086,(617) 253-6471,ychiang@mit.edu,Ceramics; Electrochemistry; Energy; Energy Storage; Nanotechnology; Surfaces, Interfaces, and Thin Films,Research,Prof. Chiang's research focuses on the design, synthesis, and characterization of advanced inorganic materials and related devices. Current topics include new cathode and anode materials for lithium ion batteries, phase transformations in electroactive materials, electrochemical device design, electrochemical-to-mechanical energy conversion, self-assembling colloids, and the stability and defect chemical properties of interfaces in inorganic materials.\",\n",
              "  {'entities': [(0, 15, 'Name'),\n",
              "    (16, 38, 'Designation'),\n",
              "    (42, 64, 'Department'),\n",
              "    (65, 92, 'Designation'),\n",
              "    (107, 140, 'Department'),\n",
              "    (237, 298, 'Qualification'),\n",
              "    (299, 311, 'Address'),\n",
              "    (312, 327, 'Email'),\n",
              "    (686, 799, 'Specialization'),\n",
              "    (818, 930, 'Qualification')]}),\n",
              " ('Angela  Belcher,Head of the Department of Biological Engineering,James Mason Crafts Professor,Professor of Materials Science and Engineering,Professor of Bioengineering,BA, Creative Studies, University of California, Santa Barbara, 1991,PhD, Chemistry, University of California, Santa Barbara, 1997,Room 76-561A,belcher@mit.edu,Personal Website,Panel discussion on \"Perspectives on Teaching, Learning, and Living\" MIT Campaign for a Better World,Bio; Biotechnology; Energy Storage; Nanotechnology; Polymers,Research,Angela Belcher is a materials chemist with expertise in biomaterials, biomolecular materials, organic-inorganic interfaces and solid-state chemistry. Her work focuses on evolving organisms to build new materials and devices for clean energy, electronics, the environment and medicine. She received the B.S. in Creative Studies and the Ph.D. in Inorganic Chemistry from the University of California at Santa Barbara. Dr. Belcher was awarded the 24th annual MacArthur Foundation Fellowship, and the 2004 Four Star General Recognition Award. In 2006 she was named,Scientific American,’s Research Leader of the Year. Her work has been published in many prestigious scientific journals including,Science and Nature,, and has been reported in the popular press including,Fortune,Forbes,Discover,The New York Times,, and,The Wall Street Journal,.',\n",
              "  {'entities': [(0, 15, 'Name'),\n",
              "    (16, 25, 'Designation'),\n",
              "    (29, 74, 'Department'),\n",
              "    (100, 119, 'Qualification'),\n",
              "    (121, 131, 'Address'),\n",
              "    (132, 147, 'Email'),\n",
              "    (485, 608, 'Specialization')]}),\n",
              " (\"Thomas W. Eagar,Professor of Materials Engineering and Engineering Systems,SB Metallurgy, MIT, 1972,ScD Metallurgy, MIT, 1975,4-140,tweagar@mit.edu,Personal Website,Materials Systems and Analysis; Fracture, Fatigue, and Failure of Materials; Metallurgy; Structural Materials,Research,Improvements in the reliability of fabricated materials require a better understanding of the physics and the chemistry of the processes that are used. Although most of Prof. Eagar's research involves welding and joining, an increasing amount of work involves other aspects of materials manufacturing and engineering systems.,Examples of recent research include:,Fundamentals of transient liquid phase diffusion bonding as applied to composites, superalloys and electronic packaging,Control of melting during gas metal arc welding,Effects of welding fume on health of workers,Stresses generated during joining of dissimilar materials,Improved methods of dimensional analysis of materials processing,Design, forming and assembly of automotive body components,Methods for successful product design and development\",\n",
              "  {'entities': [(0, 16, 'Name'),\n",
              "    (22, 41, 'Designation'),\n",
              "    (45, 78, 'Department'),\n",
              "    (101, 147, 'Qualification'),\n",
              "    (155, 188, 'Department'),\n",
              "    (227, 234, 'Address'),\n",
              "    (235, 251, 'Email'),\n",
              "    (469, 502, 'Department'),\n",
              "    (739, 962, 'Specialization'),\n",
              "    (1188, 1207, 'Designation'),\n",
              "    (1241, 1628, 'Specialization')]}),\n",
              " (\"Rodrigo  Freitas,AMAX Assistant Professor of Materials Science and Engineering (effective Jan. 2021),B.Sc., Physics, University of Campinas, Brazil,Ph.D., Materials Science and Engineering, University of California at Berkeley,13-5049,rodrigof@mit.edu,CV,Computational Materials Science; Phase Transformations; Thermodynamics,Research,Rodrigo Freitas received B.Sc. and M.Sc. degrees in Physics from the University of Campinas in Brazil, and M.Sc. and Ph.D. degrees in Materials Science and Engineering from the University of California Berkeley. During his Ph.D. he was also a Livermore Graduate Scholar in the Materials Science Division of the Lawrence Livermore National Laboratory. As a graduate student, Dr. Freitas\\xa0investigated the thermodynamics, kinetics, and mechanics of extended defects in metals (such as grain boundaries and dislocations) using atomistic simulation methods, i.e., methods in which the behavior of each atom is explicitly considered. Currently, as a postdoctoral researcher at Stanford University, he has worked to leverage Machine Learning tools to perform physics-based modeling of materials kinetics.,In January 2021, Dr. Freitas\\xa0will be joining DMSE as Assistant Professor. His research will be focused on elucidating the fundamental mechanisms of microstructural evolution for systems of relevance in materials science broadly construed. Rodrigo's research group will employ a range of computational techniques with the goal of bridging the gap between the all-atom information gathered from simulations and the mesoscale description of microstructural elements employed in materials science.\",\n",
              "  {'entities': [(0, 20, 'Name'),\n",
              "    (21, 53, 'Designation'),\n",
              "    (57, 90, 'Department'),\n",
              "    (91, 165, 'Designation'),\n",
              "    (166, 213, 'Qualification'),\n",
              "    (214, 266, 'Qualification'),\n",
              "    (267, 279, 'Address'),\n",
              "    (280, 294, 'Email'),\n",
              "    (753, 1000, 'Specialization')]}),\n",
              " (\"Eugene A. Fitzgerald,Merton C. Flemings-SMA Professor of Materials Science and Engineering,CEO and director of the Singapore-MIT Alliance for Research and Technology,BS Materials Science and Engineering, MIT, 1985,PhD Materials Science and Engineering, Cornell, 1989,Room 13-5153,eafitz@mit.edu,The Fitzgerald Group,Changing the World through Materials Innovation: Wulff Lecture Fall 2016 (YouTube video),Electronic Materials; Nanotechnology; Semiconductors; Surfaces, Interfaces, and Thin Films,Research,Prof. Fitzgerald's group's research activities attack the current limitations of electronic materials, especially limitations created by imperfections in materials such as point, line, and planar defects. Much of the group's efforts are focused on lattice-mismatched semiconductor systems, in which layers in electronic materials and devices have different lattice parameters. Such material combinations have potential in printing, storage, display, communications, and interconnect applications. But the utility of these materials depends on our ability to understand and eliminate crystalline defects which can be generated due to the lattice-mismatch between semiconductor layers. Current projects involve the fabrication of GeSi/Si detectors and InGaAs/GaAs emitters which may be used in fiber-to-the-home applications; GeSi/Si structures for integrated, micro-mechanical devices; visible AlInGaP LEDs and lasers integrated on Si and GaAs; III-V microwave transistors integrated on Si; III-V solar cells integrated on Si; basic studies concerning the generation, propagation, and interaction of defects in these heterostructures; and investigations of microscopic failure mechanisms in optoelectronic and electronic devices.\",\n",
              "  {'entities': [(0, 10, 'Name'),\n",
              "    (11, 20, 'Designation'),\n",
              "    (24, 41, 'Department'),\n",
              "    (105, 131, 'Qualification'),\n",
              "    (181, 242, 'Qualification'),\n",
              "    (243, 277, 'Qualification'),\n",
              "    (278, 289, 'Address'),\n",
              "    (290, 302, 'Email'),\n",
              "    (373, 382, 'Designation'),\n",
              "    (796, 1095, 'Specialization')]}),\n",
              " (\"Yoel  Fink,Professor of Materials Science,Joint Professor of Electrical Engineering and Computer Science,B.Sc. Chemical Engineering, Technion - Israel Institute of Technology, 1994,B.A. Physics, Technion - Israel Institute of Technology, 1995,Ph.D. Materials Science, MIT, 2000,Room 36-864,yoel@mit.edu,Personal Website,Medical; Nanotechnology; Photonic Materials,Research,Professor Fink's research interests are in the theory, design, fabrication and characterization of multimaterial multifunctional fibers and fiber assemblies. Fibers are among the earliest forms of human expression, yet surprisingly have remained unchanged from ancient to modern times. Can fibers become highly functional devices? Can they see, hear, sense and communicate? Fink’s research group,,fibers@mit,, focuses on extending the frontiers of fiber materials from optical transmission to encompass electronic, optoelectronic and even acoustic properties. What makes these fibers unique is the combination of a multiplicity of disparate materials arranged in elaborate geometries with features down to 10 nanometers. Two complementary approaches towards realizing sophisticated functions are utilized: on the single-fiber level, the integration of a multiplicity of functional components into one fiber, and on the multiple-fiber level, the assembly of large-scale fiber arrays and fabrics. Fink’s multimaterial fibers offer unprecedented control over material properties and function on length scales spanning the nanometer to kilometer range.\",\n",
              "  {'entities': [(0, 15, 'Name'),\n",
              "    (16, 25, 'Designation'),\n",
              "    (29, 63, 'Department'),\n",
              "    (64, 118, 'Qualification'),\n",
              "    (119, 223, 'Qualification'),\n",
              "    (225, 230, 'Address'),\n",
              "    (231, 245, 'Email'),\n",
              "    (550, 650, 'Specialization'),\n",
              "    (689, 737, 'Specialization'),\n",
              "    (753, 882, 'Specialization'),\n",
              "    (909, 1030, 'Specialization')]}),\n",
              " (\"Dorothy  Hosler,Professor of Archaeology and Ancient Technology,BA Anthropology, University of California, Los Angeles,PhD Anthropology, University of California, Santa Barbara, 1986 (specialization Mesoamerican archaeology),8-204,hosler@mit.edu,CMRAE,Material Culture,Research,Prof. Hosler's research generally examines the extraction, processing and production of copper and copper based alloys in ancient Mesoamerica and South America and the relation of these technologies in the two areas to each other. Her primary research currently is at the site of El Manchón, Guerrero, in West Mexico, where extensive copper smelting activities took place. She and her colleagues are currently working on dating the smelting area of that site. They are also examining the production of a variety of unusual prehispanic copper-based alloy objects recently excavated in the state of Mexico. Her general interests in production extend to rubber and pottery production in ancient Mesoamerica and to construction technologies in Mesoamerica.,Current Research in Guerrero,Prof. Hosler's 1999 survey of the Balsas region of Guerrero identified six metalworking sites, the most significant of which is La Barrranca de la Fundiciones (see Hosler 2003a, b). This site is located at 1400 meters in the Sierra Madre del Sur de Guerrero. The site covers about 1 kilometer and consists of three physically distinct areas: two zones contain long low rectangular structures (3-8m long) that may have served as house foundations or for other activities. Copper smelting took place in a third physically separate area where large accumulations of slag and disturbed furnace structures appear. We have completed excavations at the site and have analyzed the slag in the laboratories at MIT. Initial dates from both the smelting area and from the mounds suggest occupation around 1200–1300AD. Ethnic affiliations of these people cannot\\xa0 be determined. After four 8-12 week field seasons work at the site halted due to dangerous political/social circumstances in 2010. We have carried out extensive laboratory work on the pottery and smelting technologies and materials.\\xa0 La Barranca de Las Fundiciones is the first ancient copper-smelting site yet identified in Mesoamerica.,Other Research,The Spring 2008 issue of the Journal of Anthropological Research reported research on oceangoing rafts and traderoutes in pre-Columbian South and Central America; this research was performed by Prof. Hosler and Leslie Dewan, former MIT undergraduate (see the,MIT News Office,for the full story, March 19, 2008). Leslie Dewan is currently a MIT Ph.D. student in the Department of Nuclear Science & Engineering.,A facsimile raft conforming to original dimensions and made from original materials was constructed at MIT as a component of the laboratory class, Materials in Human Experience. The raft was launched in the Charles River in Spring 2009.,In 2012 Prof. Hosler traveled to Sucre, Bolivia for a three month course in intensive Quechua to explore the possiblity of enthnographic field work among local mining communities. Work in indigenous Bolivian communities has become difficult in the last several years due to political concerns and presumably will resolve in the near future.\",\n",
              "  {'entities': [(0, 24, 'Name'),\n",
              "    (25, 51, 'Designation'),\n",
              "    (55, 75, 'Department'),\n",
              "    (76, 137, 'Qualification'),\n",
              "    (164, 171, 'Address'),\n",
              "    (172, 186, 'Email'),\n",
              "    (350, 423, 'Qualification'),\n",
              "    (732, 874, 'Specialization')]}),\n",
              " (\"Rafael  Gomez-Bombarelli,Toyota Assistant Professor in Materials Processing,2011 PhD Universidad de Salamanca,2006 Licenciado en Química. Universidad de Salamanca,13-5037,rafagb@mit.edu,Gomez-Bombarelli Lab Website,Google Scholar,Computational Materials Science,Research,Rafael Gomez-Bombarelli joined the MIT faculty in January 2018. He received a B.S., M.S., and Ph.D. in Chemistry from Universidad de Salamanca in Spain, followed by postdoctoral work at Heriot-Watt University and Harvard University after which he was a senior researcher at Kyulux NA applying Harvard-licensed technology to create real-life commercial organic light-emitting diode (OLED) products.,Dr. Gomez-Bombarelli’s research trajectory has evolved from experimental mechanistic studies of organic molecules with emphasis on environmental toxicity to computer-driven design of molecular materials. By combining first-principles simulation with machine learning on theoretical and experimental datasets he aims to accelerate the discovery cycle of novel practical materials.,Through his research at MIT he plans to address the role of molecular transformation in materials discovery, in areas such as catalyst design, the environmentally-minded development of novel and replacement chemicals, and designing for stability in advanced materials.,Rafa's work has been featured in journals such as,Technology Review,and the,Wall Street Journal,. He was also co-founder of Calculario, a materials discovery company that leverages quantum chemistry and machine learning to target advanced materials in a range of high-value markets.\",\n",
              "  {'entities': [(0, 15, 'Name'),\n",
              "    (16, 46, 'Designation'),\n",
              "    (50, 83, 'Department'),\n",
              "    (169, 202, 'Qualification'),\n",
              "    (203, 213, 'Address'),\n",
              "    (214, 230, 'Email')]}),\n",
              " ('Lorna J. Gibson,Matoula S. Salapatas Professor of Materials Science and Engineering,Professor of Mechanical Engineering,MacVicar Fellow,BASc University of Toronto, 1978,PhD University of Cambridge, 1981,Room 8-135,ljgibson@mit.edu,Gibson Group,Built to Peck: How Woodpeckers Avoid Brain Injury (YouTube series),Mechanical Behavior of Materials,Research,Many materials have a cellular structure, with either a two-dimensional array of prismatic cells, as in a honeycomb, or a three-dimensional array of polyhedral cells, as in a foam. Engineering honeycombs and foams can now be made from nearly any material: polymers, metals, ceramics, glasses and composites, with pore sizes ranging from nanometers to millimeters. Their cellular structure gives rise to a unique combination of properties which are exploited in engineering design: their low weight make them attractive for structural sandwich panels, their ability to undergo large deformations at relatively low stresses make them ideal for absorbing the energy of impacts, their low thermal conductivity make them excellent insulators, and their high specific surface area make them attractive for substrates for catalysts for chemical reactions. Cellular materials are increasingly used in biomedical applications. Open-cell titantium foams are being developed to replace trabecular bone. Porous scaffolds for regeneration of damaged or diseased tissues often resemble an open-cell foam. Cellular materials are also widespread in nature in plant and animal tissues: examples include wood, cork, plant parenchyma, trabecular bone and lung alveoli.,Our group has contributed to the understanding of the mechanics of cellular solids, as well as to their use in many of the above applications. Recently completed projects include: the design and characterization of osteochondral scaffolds for the regeneration of cartilage as well as the underlying bone; the mechanics of fluid flow through open-cell foams for protection from impacts; and low thermal conductivity aerogels for building applications.\\xa0 Current project include: structural bamboo products and the mechanics of balsa and balsa-inspired engineering materials.',\n",
              "  {'entities': [(0, 19, 'Name'),\n",
              "    (20, 42, 'Designation'),\n",
              "    (46, 79, 'Department'),\n",
              "    (635, 654, 'Name'),\n",
              "    (681, 714, 'Department'),\n",
              "    (1283, 1634, 'Specialization')]}),\n",
              " ('Jeffrey C. Grossman,Head of the Department of Materials Science and Engineering,Morton and Claire Goulder and Family Professor in Environmental Systems,Professor of Materials Science and Engineering,MacVicar Fellow,B.A. in Physics, Johns Hopkins University, 1991,M.S. in Physics, University of Illinois at Urbana-Champaign, 1992,Ph.D. in Physics, University of Illinois at Urbana-Champaign, 1996,Room 6-113,(617) 324-3566,jcg@mit.edu,Grossman Research Group,ILP Profile of Prof. Grossman,2014 Wulff Lecture,Computational Materials Science; Condensed Matter Physics; Energy; Energy Storage; Materials Chemistry; Nanotechnology,Research,Jeffrey C. Grossman is the Department Head of Materials Science and Engineering at the Massachusetts Institute of Technology and the Morton and Claire Goulder and Family Professor in Environmental Systems. He received his PhD in theoretical physics from the University of Illinois and performed postdoctoral work at the University of California at Berkeley. He was a Lawrence Fellow at the Lawrence Livermore National Laboratory and returned to Berkeley as director of a Nanoscience Center and head of the Computational Nanoscience research group, with a focus on energy applications. In fall 2009, he joined MIT, where he has developed a research program known for its contributions to energy conversion, energy storage, membranes, and clean-water technologies. In recognition of his contributions to engineering education, Grossman was named an MIT MacVicar Faculty Fellow and received the Bose Award for Excellence in Teaching, in addition to being named a fellow of the American Physical Society. He has published more than 200 scientific papers, holds 17 current or pending U.S. patents, and recently co-founded a company to commercialize graphene-oxide membranes.',\n",
              "  {'entities': [(0, 15, 'Name'),\n",
              "    (16, 35, 'Designation'),\n",
              "    (39, 72, 'Department'),\n",
              "    (72, 141, 'Qualification'),\n",
              "    (142, 195, 'Qualification'),\n",
              "    (196, 203, 'Address'),\n",
              "    (204, 220, 'Email'),\n",
              "    (504, 536, 'Specialization')]}),\n",
              " (\"Juejun (JJ)  Hu,Associate Professor of Materials Science and Engineering,B.S. in Materials Science and Engineering, Tsinghua University, 2004,Ph.D. in Materials Science and Engineering, MIT, 2009,13-4054,hujuejun@MIT.EDU,Photonic Materials Group,Electronic Materials; Nanotechnology; Photonic Materials; Semiconductors,Research,The group's main research theme focuses on novel materials and devices to exploit interactions of light with matter. Our work covers a wide spectrum of applications including:,On-chip sensing and spectroscopy:,capitalizing on a digital Fourier-Transform (dFT) technology the group invented, we have created miniaturized and rugged sensors that can be mass produced using standard CMOS manufacturing technologies for industrial process control, medical imaging, and space applications.,Optical phase change materials and meta-optics:,optical phase change materials are a class of materials whose optical properties are drastically modified upon undergoing a solid-state phase transition. Using these intriguing materials, the group have pioneered a series of cutting-edge reconfigurable optical devices that can be re-programmed to adapt to specific tasks.,2-D material photonic integration:,2-D materials offer many tantalizing properties that conventional optical materials do not possess. However, integration of these materials onto an integrated photonics platform can be challenging. Our group's work helps to address the challenge by developing new monolithic integration schemes on 2-D materials, enabling novel photonic devices with unprecedented performance.,Flexible photonics and polymer photonics:,traditionally, photonic circuits are fabricated on rigid substrates such as semiconductors or glasses. The group have developed novel methods to make photonic devices flexible, stretchable and rugged without compromising their optical performance. We are exploring emerging applications of such devices in biomedical monitoring and high-speed data communications.,Optics for solar energy:,we have demonstrated novel optical architectures and module integration technologies that can effectively boost the efficiency of photovoltaic modules while maintaining a footprint and cost comparable to standard silicon flat panels.,Magneto-optical isolation:,we are developing chip-scale one-way valves for photons that will become an integral part of next-generation optical communication and navigation systems.\",\n",
              "  {'entities': [(0, 17, 'Name'),\n",
              "    (18, 37, 'Designation'),\n",
              "    (41, 74, 'Department'),\n",
              "    (75, 122, 'Qualification'),\n",
              "    (123, 188, 'Qualification'),\n",
              "    (189, 252, 'Qualification'),\n",
              "    (253, 260, 'Address'),\n",
              "    (261, 275, 'MobileNumber'),\n",
              "    (276, 292, 'Email'),\n",
              "    (627, 955, 'Specialization')]}),\n",
              " ('Rafael  Jaramillo,Assistant Professor of Materials Science and Engineering,Ph.D., Physics, The University of Chicago, 2008,M.Eng., Applied and Engineering Physics, Cornell University, 2003,B.S., Applied and Engineering Physics, Cornell University, 2002,13-5025,(617) 324-6871,rjaramil@mit.edu,Jaramillo Group,Electronic Materials; Nanotechnology; Phase Transformations; Semiconductors; Surfaces, Interfaces, and Thin Films; Transport Phenomena,Research,Our research sits in the big, fun space between materials science, solid state physics, and opto-electronic technologies. Our current projects fall into three categories:,1. Photoconductivity: Fundamental understanding, control through material processing, and utilization in device technology.,2. Layered and phase-change materials: Developing new materials processing methods and demonstrating new uses for layered chalcogenide materials.,3. Complex chalcognides and highly-polarizable semiconductors: Developing chalcogenide electronic materials in the perovskite and related complex, three-dimensional crystal structures.,For more information please see our group website.',\n",
              "  {'entities': [(0, 15, 'Name'),\n",
              "    (33, 42, 'Designation'),\n",
              "    (46, 66, 'Department'),\n",
              "    (67, 76, 'Designation'),\n",
              "    (80, 113, 'Department'),\n",
              "    (114, 181, 'Qualification'),\n",
              "    (182, 237, 'Qualification'),\n",
              "    (238, 245, 'Address'),\n",
              "    (246, 262, 'Email'),\n",
              "    (454, 699, 'Specialization')]}),\n",
              " (\"Klavs F. Jensen,Warren K. Lewis  Professor of Chemical Engineering,Professor of Materials Science and Engineering,MSc Chemical Engineering, the Technical University of Denmark, 1976,PhD Chemical Engineering, University of Wisconsin, 1980,66-542A,kfjensen@mit.edu,Jensen Lab,Materials Chemistry; MEMS (Micro-Electro-Mechanical Systems); Nanotechnology; Surfaces, Interfaces, and Thin Films; Transport Phenomena,Research,Prof. Jensen's research focuses on understanding and controlling the interaction of reaction and transport processes in the realization and testing of functional micro- and nano-structured materials and devices for chemical, biological, optical, electronic and energy applications. His group is exploring a wide range of microfabricated systems with particular emphasis on systems for which microfabrication provides unique process advantages in terms of novel processing conditions, manipulation of microstructure, and gain understanding of underlying physicochemical processes. For example, they exploit microfluidics in the synthesis of colloidal core-shell nanoparticles for optical, electronic, and catalytic applications at conditions difficult to achieve by conventional approaches. They also use detailed simulations of reactive systems, specifically simulation across multiple length and time scales, to complement experimental studies and gain new insight into the underlying basic physical and chemical rate processes.\",\n",
              "  {'entities': [(0, 12, 'Name'),\n",
              "    (13, 32, 'Designation'),\n",
              "    (36, 58, 'Department'),\n",
              "    (59, 78, 'Designation'),\n",
              "    (82, 115, 'Department'),\n",
              "    (2290, 2312, 'Department'),\n",
              "    (2354, 2387, 'Department')]})]"
            ]
          },
          "metadata": {
            "tags": []
          },
          "execution_count": 24
        }
      ]
    },
    {
      "cell_type": "code",
      "metadata": {
        "id": "-vMjQlqn8g1I",
        "outputId": "c9decba0-786f-4482-e892-69e5e985aafc",
        "colab": {
          "base_uri": "https://localhost:8080/"
        }
      },
      "source": [
        "len(training_data)"
      ],
      "execution_count": null,
      "outputs": [
        {
          "output_type": "execute_result",
          "data": {
            "text/plain": [
              "68"
            ]
          },
          "metadata": {
            "tags": []
          },
          "execution_count": 27
        }
      ]
    },
    {
      "cell_type": "code",
      "metadata": {
        "id": "BE4JOPBfWL_M"
      },
      "source": [
        "for tp in training_data:\n",
        "  dic=tp[1]\n",
        "  prevend=-1\n",
        "  for tp1 in dic['entities']:\n",
        "    start=tp1[0]\n",
        "    end=tp1[1]\n",
        "    if prevend>=start:\n",
        "      print('Overlapping in '+tp[0][:10])\n",
        "    prevend=end\n"
      ],
      "execution_count": null,
      "outputs": []
    },
    {
      "cell_type": "code",
      "metadata": {
        "id": "w_B0aMVRytmu",
        "outputId": "3eb45e17-cfd0-4040-9af0-a5ff7882a85f",
        "colab": {
          "base_uri": "https://localhost:8080/"
        }
      },
      "source": [
        "for tp in training_data2:\n",
        "  dic=tp[1]\n",
        "  prevend=-1\n",
        "  for tp1 in dic['entities']:\n",
        "    start=tp1[0]\n",
        "    end=tp1[1]\n",
        "    if prevend>=start:\n",
        "      print('Overlapping in '+tp[0][:10])\n",
        "    prevend=end"
      ],
      "execution_count": null,
      "outputs": [
        {
          "output_type": "stream",
          "text": [
            "Overlapping in Jeffrey C.\n"
          ],
          "name": "stdout"
        }
      ]
    },
    {
      "cell_type": "code",
      "metadata": {
        "id": "QmClc1grL4bP"
      },
      "source": [
        "training_data.extend(training_data2)"
      ],
      "execution_count": null,
      "outputs": []
    },
    {
      "cell_type": "code",
      "metadata": {
        "id": "bT32Zmvlb-CO"
      },
      "source": [
        "def train_model(data,iterations):\n",
        "  TRAIN_DATA=data\n",
        "  nlp=spacy.blank('en')\n",
        "\n",
        "  if 'ner' not in nlp.pipe_names:\n",
        "    ner = nlp.create_pipe('ner')\n",
        "    nlp.add_pipe(ner, last=True)\n",
        "\n",
        "  for _, annotations in TRAIN_DATA:\n",
        "    for ent in annotations.get('entities'):\n",
        "      ner.add_label(ent[2])\n",
        "\n",
        "  other_pipes = [pipe for pipe in nlp.pipe_names if pipe != 'ner']\n",
        "  with nlp.disable_pipes(*other_pipes):  \n",
        "    optimizer = nlp.begin_training()\n",
        "\n",
        "    for itn in range(iterations):\n",
        "      random.shuffle(TRAIN_DATA)\n",
        "      losses = {}\n",
        "\n",
        "      for text, annotations in TRAIN_DATA:\n",
        "        nlp.update(\n",
        "                    [text],  \n",
        "                    [annotations],  \n",
        "                    drop=0.2,  \n",
        "                    sgd=optimizer,  \n",
        "                    losses=losses)\n",
        "  return nlp"
      ],
      "execution_count": null,
      "outputs": []
    },
    {
      "cell_type": "code",
      "metadata": {
        "id": "rc71m_U9nFk9"
      },
      "source": [
        "nlp_model=train_model(training_data,25)"
      ],
      "execution_count": null,
      "outputs": []
    },
    {
      "cell_type": "code",
      "metadata": {
        "id": "XhW-K2mlQGhb"
      },
      "source": [
        "nlp_model.to_disk('my-drive/My Drive/nlp_model')"
      ],
      "execution_count": null,
      "outputs": []
    }
  ]
}