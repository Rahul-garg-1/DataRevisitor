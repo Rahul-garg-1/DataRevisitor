{
  "nbformat": 4,
  "nbformat_minor": 0,
  "metadata": {
    "colab": {
      "name": "UpdateFaculty.ipynb",
      "provenance": []
    },
    "kernelspec": {
      "name": "python3",
      "display_name": "Python 3"
    }
  },
  "cells": [
    {
      "cell_type": "code",
      "metadata": {
        "id": "ZgL8vxAXxFx2"
      },
      "source": [
        "import spacy\n",
        "import random\n",
        "import pandas as pd\n",
        "import json\n",
        "from urllib.request import urljoin \n",
        "from bs4 import BeautifulSoup \n",
        "import requests \n",
        "from urllib.request import urlparse \n",
        "from urllib.error import HTTPError\n",
        "from urllib.error import URLError"
      ],
      "execution_count": null,
      "outputs": []
    },
    {
      "cell_type": "code",
      "metadata": {
        "id": "5NvzViRqx-CH",
        "outputId": "d41c58f4-dc39-4da7-d1aa-bae85eef774c",
        "colab": {
          "base_uri": "https://localhost:8080/"
        }
      },
      "source": [
        "from google.colab import drive\n",
        "drive.mount(\"my-drive\")"
      ],
      "execution_count": null,
      "outputs": [
        {
          "output_type": "stream",
          "text": [
            "Mounted at my-drive\n"
          ],
          "name": "stdout"
        }
      ]
    },
    {
      "cell_type": "code",
      "metadata": {
        "id": "ki4CASb5yHHB"
      },
      "source": [
        "nlp_model=spacy.load('my-drive/My Drive/nlp_model')"
      ],
      "execution_count": null,
      "outputs": []
    },
    {
      "cell_type": "code",
      "metadata": {
        "id": "0CfC-q_b4tAg"
      },
      "source": [
        "def selected_tags(tag):\n",
        "  return tag!='a' and tag!='style' and tag!='script' and tag!='title'\n",
        "def extract_info(url):\n",
        "  try:\n",
        "    page=requests.get(url)\n",
        "    soup = BeautifulSoup(page.content, 'html.parser')\n",
        "    content=soup.find_all(selected_tags)\n",
        "    all_links=soup.find_all('a')\n",
        "    content=content.strip()\n",
        "    email=set()\n",
        "    personal_website=set()\n",
        "    for link in all_links:\n",
        "      if '@' in link.text:\n",
        "        email.add(link.text.strip())\n",
        "      elif 'email' in str(link.text).lower():\n",
        "        email.add(link.get('href'))\n",
        "      if 'website' in str(link.text).lower():\n",
        "        personal_website.add(link.get('href'))\n",
        "      elif 'profile' in str(link.text).lower():\n",
        "        personal_website.add(link.get('href'))\n",
        "    return content,list(email),list(personal_website)\n",
        "  except HTTPError as e:\n",
        "    print(\"404 Not Found\")\n",
        "    return \"\",[],[]\n",
        "  except URLError as e:\n",
        "    print(\"The server can't be reached\")\n",
        "    return \"\",[],[]\n",
        "  except:\n",
        "    print(\"Some unexpected error occurred\")\n",
        "    return \"\",[],[]"
      ],
      "execution_count": null,
      "outputs": []
    },
    {
      "cell_type": "code",
      "metadata": {
        "id": "Sr0yarG-Df9h"
      },
      "source": [
        "def update_info(path,df,content_df):\n",
        "  ent_weights={'Specialization':10,'Address':30,'Experience':20,'Email':50,'MobileNumber':40,'Qualification':20,'Designation':20,'PersonalWebsite':25,'Department':20,'Degree':20}\n",
        "  for i in range(len(df)):\n",
        "    total_weight=0\n",
        "    Specialization=''\n",
        "    Address=''\n",
        "    Experience=''\n",
        "    MobileNumber=''\n",
        "    Qualification=''\n",
        "    Designation=''\n",
        "    Department=''\n",
        "    Degree=''\n",
        "    print('Predicting')\n",
        "    doc=nlp_model(str(content_df.at[i,'content']))\n",
        "    for ent in doc.ents:\n",
        "      if len(ent.text)<3:\n",
        "        continue\n",
        "      print(ent.text+'\\t'+ent.label_)\n",
        "      if ent.label_=='Specialization':\n",
        "        if ent.text.lower() not in str(df.at[i,'Area of Specialization(in words)']).lower() and ent.text.lower() not in Specialization.lower():\n",
        "          Specialization=Specialization+', '+ent.text\n",
        "          total_weight+=ent_weights[ent.label_]\n",
        "      elif ent.label_=='Address':\n",
        "        if ent.text.lower() not in str(df.at[i,'Corresponding Address']).lower() and ent.text.lower() not in Address.lower():\n",
        "          Address=Address+', '+ent.text\n",
        "          total_weight+=ent_weights[ent.label_]\n",
        "      elif ent.label_=='Experience':\n",
        "        if ent.text.lower() not in str(df.at[i,'Experience']).lower() and ent.text.lower() not in Experience.lower():\n",
        "          Experience=Experience+', '+ent.text\n",
        "          total_weight+=ent_weights[ent.label_]\n",
        "      elif ent.label_=='MobileNumber':\n",
        "        if ent.text.lower() not in str(df.at[i,'Mobile No']).lower() and ent.text.lower() not in MobileNumber.lower():\n",
        "          MobileNumber=MobileNumber+', '+ent.text\n",
        "          total_weight+=ent_weights[ent.label_]\n",
        "      elif ent.label_=='Qualification':\n",
        "        if ent.text.lower() not in str(df.at[i,'Qualification']).lower() and ent.text.lower() not in Qualification.lower():\n",
        "          Qualification=Qualification+', '+ent.text\n",
        "          total_weight+=ent_weights[ent.label_]\n",
        "      elif ent.label_=='Designation':\n",
        "        if ent.text.lower() not in str(df.at[i,'Designation']).lower() and ent.text.lower() not in Designation.lower():\n",
        "          Designation=Designation+', '+ent.text\n",
        "          total_weight+=ent_weights[ent.label_]\n",
        "      elif ent.label_=='Department':\n",
        "        if ent.text.lower() not in str(df.at[i,'Department']).lower() and ent.text.lower() not in Department.lower():\n",
        "          Department=Department+', '+ent.text\n",
        "          total_weight+=ent_weights[ent.label_]\n",
        "      elif ent.label_=='Degree':\n",
        "        if ent.text.lower() not in str(df.at[i,'Doctorate Degree']).lower() and ent.text.lower() not in Degree.lower():\n",
        "          Degree=Degree+', '+ent.text\n",
        "          total_weight+=ent_weights[ent.label_]\n",
        "    if content_df.at[i,'email'] not in df.at[i,'E-mail']:\n",
        "      total_weight+=ent_weights['Email']\n",
        "    if content_df.at[i,'personal_website'] not in df.at[i,'Personal Website']:\n",
        "      total_weight+=ent_weights['PersonalWebsite'] \n",
        "    if total_weight>50:\n",
        "      if len(Specialization)!=0:\n",
        "        if 'not found' in df.at[i,'Area of Specialization(in words)'].lower():\n",
        "          df.at[i,'Area of Specialization(in words)']=Specialization\n",
        "        else:\n",
        "          df.at[i,'Area of Specialization(in words)']=df.at[i,'Area of Specialization(in words)']+Specialization\n",
        "      if len(Address)!=0:\n",
        "        if 'not found' in df.at[i,'Corresponding Address'].lower():\n",
        "          df.at[i,'Corresponding Address']=Address\n",
        "        else:\n",
        "          df.at[i,'Corresponding Address']=df.at[i,'Corresponding Address']+Address\n",
        "      if len(Experience)!=0:\n",
        "        if 'not found' in df.at[i,'Experience'].lower():\n",
        "          df.at[i,'Experience']=Experience\n",
        "        else:\n",
        "          df.at[i,'Experience']=df.at[i,'Experience']+Experience\n",
        "      if len(MobileNumber)!=0:\n",
        "        if 'not found' in df.at[i,'Mobile No'].lower():\n",
        "          df.at[i,'Mobile No']=MobileNumber\n",
        "        else:\n",
        "          df.at[i,'Mobile No']=df.at[i,'Mobile No']+MobileNumber\n",
        "      if len(Qualification)!=0:\n",
        "        if 'not found' in df.at[i,'Qualification'].lower():\n",
        "          df.at[i,'Qualification']=Qualification\n",
        "        else:\n",
        "          df.at[i,'Qualification']=df.at[i,'Qualification']+Qualification\n",
        "      if len(Designation)!=0:\n",
        "        if 'not found' in df.at[i,'Designation'].lower():\n",
        "          df.at[i,'Designation']=Designation\n",
        "        else:\n",
        "          df.at[i,'Designation']=df.at[i,'Designation']+Designation\n",
        "      if len(Department)!=0:\n",
        "        if 'not found' in df.at[i,'Department'].lower():\n",
        "          df.at[i,'Department']=Department\n",
        "        else:\n",
        "          df.at[i,'Department']=df.at[i,'Department']+Department\n",
        "      if len(Degree)!=0:\n",
        "        if 'not found' in df.at[i,'Doctorate Degree'].lower():\n",
        "          df.at[i,'Doctorate Degree']=Degree\n",
        "        else:\n",
        "          df.at[i,'Doctorate Degree']=df.at[i,'Doctorate Degree']+Degree\n",
        "      if content_df.at[i,'email'] not in df.at[i,'E-mail']:\n",
        "        df.at[i,'E-mail']=content_df.at[i,'email']\n",
        "      if content_df.at[i,'personal_website'] not in df.at[i,'Personal Website']:\n",
        "        if 'not found' in df.at[i,'Personal Website'].lower():\n",
        "          df.at[i,'Personal Website']=content_df.at[i,'personal_website']\n",
        "        else:\n",
        "          df.at[i,'Personal Website']=df.at[i,'Personal Website']+', '+content_df.at[i,'personal_website']\n",
        "    "
      ],
      "execution_count": null,
      "outputs": []
    },
    {
      "cell_type": "code",
      "metadata": {
        "id": "3o1wka811S_2"
      },
      "source": [
        "def update_changes(path,df):\n",
        "  urls=list(df['URL'])\n",
        "  info_dict={'content':[],'email':[],'personal_website':[]}\n",
        "  for i in range(len(urls)):\n",
        "    url_list=set(urls[i].split(','))\n",
        "    url_list=list(url_list)\n",
        "    content=''\n",
        "    email=[]\n",
        "    personal_website=[]\n",
        "    for url in url_list:\n",
        "      if '.edu' not in url:\n",
        "        continue\n",
        "      url=url.strip()\n",
        "      content1,email1,personal_website1=extract_info(url)      \n",
        "      content=content+', '+content1\n",
        "      email.extend(email1)\n",
        "      personal_website.extend(personal_website1)\n",
        "    email_str=', '.join([str(everymail) for everymail in email])\n",
        "    personal_website_str=', '.join([str(everywebsite) for everywebsite in personal_website])\n",
        "    info_dict['content'].append(content)\n",
        "    info_dict['email'].append(email_str)\n",
        "    info_dict['personal_website'].append(personal_website_str)\n",
        "  content_df=pd.DataFrame.from_dict(info_dict)\n",
        "  print(len(df))\n",
        "  print(len(content_df))\n",
        "  if len(df)==len(content_df):\n",
        "    update_info(path,df,content_df)"
      ],
      "execution_count": null,
      "outputs": []
    },
    {
      "cell_type": "code",
      "metadata": {
        "id": "CwLHsGQKw9tU"
      },
      "source": [
        "def read_file(path,option):\n",
        "  df=''\n",
        "  if path.endswith('.csv'):\n",
        "    df=pd.read_csv(path)\n",
        "  elif path.endswith('.xlsx'):\n",
        "    df=pd.read_excel(path)\n",
        "  else:\n",
        "    print('This file format is not accepted')\n",
        "    return\n",
        "  if option==1:\n",
        "    update_changes(path,df)\n",
        "  elif option==2:\n",
        "    find_new_faculty(path,df)\n",
        "  elif option==3:\n",
        "    update_changes(path,df)\n",
        "    find_new_faculty(path,df)"
      ],
      "execution_count": null,
      "outputs": []
    }
  ]
}